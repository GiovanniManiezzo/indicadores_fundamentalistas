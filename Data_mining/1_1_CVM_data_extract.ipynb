{
 "cells": [
  {
   "cell_type": "code",
   "execution_count": null,
   "metadata": {},
   "outputs": [],
   "source": [
    "import yfinance as yf\n",
    "import pandas as pd\n",
    "import statsmodels.api as sm\n",
    "from datetime import timedelta\n",
    "from datetime import datetime\n",
    "import requests\n",
    "import zipfile \n",
    "import os\n",
    "from dotenv import load_dotenv"
   ]
  },
  {
   "cell_type": "markdown",
   "metadata": {},
   "source": [
    "Extrair ITR (Formulário de Informações Trimestrais) da CVM e salvar arquivos (1 para cada ano)"
   ]
  },
  {
   "cell_type": "code",
   "execution_count": null,
   "metadata": {},
   "outputs": [],
   "source": [
    "# Carregar variáveis de ambiente\n",
    "load_dotenv()\n",
    "path_dados_trimestrais = os.getenv(\"PATH_DADOS_TRIMESTRAIS\")\n",
    "url_base = os.getenv(\"URL_BASE_ITR\")\n",
    "\n",
    "# Definindo o período a ser consultado\n",
    "anos = range(2011, datetime.now().year)\n",
    "\n",
    "#Escolhendo diretório para salvar os arquivos\n",
    "os.chdir(f\"{path_dados_trimestrais}\")\n",
    "\n",
    "#Loop para realizar requisições e baixar os arquivos da CVM\n",
    "for ano in anos:\n",
    "    print(f\"Baixando o ano {ano}...\")\n",
    "    download = requests.get(url_base + f'itr_cia_aberta_{ano}.zip')\n",
    "    open(f\"itr_cia_aberta_{ano}.zip\", \"wb\").write(download.content)\n",
    "    print(f\"Finalizado download do ano {ano}...\")\n",
    "\n",
    "print(\"Fim\")"
   ]
  },
  {
   "cell_type": "markdown",
   "metadata": {},
   "source": [
    "Junta os arquivos trimestrais de dados em um arquivo"
   ]
  },
  {
   "cell_type": "code",
   "execution_count": null,
   "metadata": {},
   "outputs": [
    {
     "name": "stdout",
     "output_type": "stream",
     "text": [
      "Arquivo itr_cia_aberta_2011.zip extraído\n",
      "*Arquivo itr_cia_aberta_DRE_con_2011.csv adicionado à lista de demonstrações\n",
      "Arquivo itr_cia_aberta_2012.zip extraído\n",
      "*Arquivo itr_cia_aberta_DRE_con_2012.csv adicionado à lista de demonstrações\n",
      "Arquivo itr_cia_aberta_2013.zip extraído\n",
      "*Arquivo itr_cia_aberta_DRE_con_2013.csv adicionado à lista de demonstrações\n",
      "Arquivo itr_cia_aberta_2014.zip extraído\n",
      "*Arquivo itr_cia_aberta_DRE_con_2014.csv adicionado à lista de demonstrações\n",
      "Arquivo itr_cia_aberta_2015.zip extraído\n",
      "*Arquivo itr_cia_aberta_DRE_con_2015.csv adicionado à lista de demonstrações\n",
      "Arquivo itr_cia_aberta_2016.zip extraído\n",
      "*Arquivo itr_cia_aberta_DRE_con_2016.csv adicionado à lista de demonstrações\n",
      "Arquivo itr_cia_aberta_2017.zip extraído\n",
      "*Arquivo itr_cia_aberta_DRE_con_2017.csv adicionado à lista de demonstrações\n",
      "Arquivo itr_cia_aberta_2018.zip extraído\n",
      "*Arquivo itr_cia_aberta_DRE_con_2018.csv adicionado à lista de demonstrações\n",
      "Arquivo itr_cia_aberta_2019.zip extraído\n",
      "*Arquivo itr_cia_aberta_DRE_con_2019.csv adicionado à lista de demonstrações\n",
      "Arquivo itr_cia_aberta_2020.zip extraído\n",
      "*Arquivo itr_cia_aberta_DRE_con_2020.csv adicionado à lista de demonstrações\n",
      "Arquivo itr_cia_aberta_2021.zip extraído\n",
      "*Arquivo itr_cia_aberta_DRE_con_2021.csv adicionado à lista de demonstrações\n",
      "Arquivo itr_cia_aberta_2022.zip extraído\n",
      "*Arquivo itr_cia_aberta_DRE_con_2022.csv adicionado à lista de demonstrações\n",
      "Arquivo itr_cia_aberta_2023.zip extraído\n",
      "*Arquivo itr_cia_aberta_DRE_con_2023.csv adicionado à lista de demonstrações\n",
      "Arquivo itr_cia_aberta_2024.zip extraído\n",
      "*Arquivo itr_cia_aberta_DRE_con_2024.csv adicionado à lista de demonstrações\n"
     ]
    }
   ],
   "source": [
    "lista_demonstracoes = []\n",
    "diretorio_atual = os.getcwd()\n",
    "\n",
    "for arquivo in os.listdir(f\"{path_dados_trimestrais}\"):\n",
    "    if arquivo.endswith(\".zip\"):\n",
    "        with zipfile.ZipFile(arquivo, \"r\") as zipped:\n",
    "            zipped.extractall()\n",
    "            print(f\"Arquivo {arquivo} extraído\")\n",
    "            for arquivo_csv in zipped.namelist():\n",
    "                if arquivo_csv.endswith(\".csv\") and \"DRE\" in arquivo_csv and \"con\" in arquivo_csv:\n",
    "                    #pegar apenas os arquivos que tiverem DRE no nome\n",
    "                    demonstracao = pd.read_csv(arquivo_csv, sep=\";\", decimal=\",\", encoding=\"ISO-8859-1\", dtype= {\"ORDEM_EXERC\": \"category\"})\n",
    "                    lista_demonstracoes.append(demonstracao)\n",
    "                    \n",
    "                    print(f\"*Arquivo {arquivo_csv} adicionado à lista de demonstrações\")\n",
    "                os.remove(arquivo_csv)\n",
    "\n"
   ]
  },
  {
   "cell_type": "markdown",
   "metadata": {},
   "source": [
    "Elimina dados desnecessários e salva arquivo em .csv"
   ]
  },
  {
   "cell_type": "code",
   "execution_count": null,
   "metadata": {},
   "outputs": [
    {
     "name": "stdout",
     "output_type": "stream",
     "text": [
      "Arquivo salvo com sucesso!\n"
     ]
    }
   ],
   "source": [
    "base_dados_tri = pd.concat(lista_demonstracoes)\n",
    "\n",
    "base_dados_tri.to_csv(path_dados_trimestrais + 'base_dados_tri.csv', sep=\";\")\n",
    "print(\"Arquivo salvo com sucesso!\")"
   ]
  },
  {
   "cell_type": "markdown",
   "metadata": {},
   "source": [
    "Extrai dados DFP (anuais)"
   ]
  },
  {
   "cell_type": "code",
   "execution_count": null,
   "metadata": {},
   "outputs": [],
   "source": [
    "# Carregar variáveis de ambiente\n",
    "load_dotenv()\n",
    "\n",
    "path_dados_anuais = os.getenv(\"PATH_DADOS_ANUAIS\")\n",
    "\n",
    "#definir caminho para salvar os arquivos -- editar aqui caso queira mudar\n",
    "os.chdir(path_dados_anuais)\n",
    "\n",
    "#pega dados desde 2010 --- editar aqui para pegar mais anos\n",
    "anos = range(2010, datetime.now().year)\n",
    "url_base = os.getenv(\"URL_BASE_DFP\")\n",
    "\n",
    "for ano in anos:\n",
    "    download = requests.get(url_base + f\"dfp_cia_aberta_{ano}.zip\")\n",
    "    #salvar o arquivo zip no caminho C:\\workspace_mestrado\\dados_cvm_anuais\n",
    "    open(f\"dfp_cia_aberta_{ano}.zip\", \"wb\").write(download.content)\n",
    "    print(f\"Arquivo {ano} baixado e salvo\")\n",
    "    "
   ]
  },
  {
   "cell_type": "markdown",
   "metadata": {},
   "source": [
    "Juntar arquivos separados em um único"
   ]
  },
  {
   "cell_type": "code",
   "execution_count": null,
   "metadata": {},
   "outputs": [],
   "source": [
    "lista_demonstracoes= []\n",
    "#definir caminho para salvar os arquivos -- editar aqui caso queira mudar\n",
    "\n",
    "for arquivo in os.listdir(f\"{path_dados_anuais}\"):\n",
    "    if arquivo.endswith(\".zip\"):\n",
    "        with zipfile.ZipFile(arquivo, \"r\") as zipped:\n",
    "            zipped.extractall()\n",
    "            print(f\"Arquivo {arquivo} extraído\")\n",
    "            for arquivo_csv in zipped.namelist():\n",
    "                if arquivo_csv.endswith(\".csv\") and \"DRE\" in arquivo_csv and \"con\" in arquivo_csv:\n",
    "                    #pegar apenas os arquivos que tiverem DRE no nome\n",
    "                    demonstracao = pd.read_csv(arquivo_csv, sep=\";\", decimal=\",\", encoding=\"ISO-8859-1\", dtype= {\"ORDEM_EXERC\": \"category\"})\n",
    "                    lista_demonstracoes.append(demonstracao)\n",
    "                    \n",
    "                    print(f\"*Arquivo {arquivo_csv} adicionado à lista de demonstrações\")\n",
    "                os.remove(arquivo_csv)        \n"
   ]
  },
  {
   "cell_type": "code",
   "execution_count": null,
   "metadata": {},
   "outputs": [],
   "source": [
    "#agrupa os itens da lista em um dataframe\n",
    "base_dados = pd.concat(lista_demonstracoes)\n",
    "\n",
    "#transformar em csv\n",
    "base_dados.to_csv(path_dados_anuais + 'base_dados_anual.csv', sep=\";\")\n",
    "print(\"Arquivo 'base_dados_2025.csv' salvo com sucesso!\")"
   ]
  },
  {
   "cell_type": "code",
   "execution_count": null,
   "metadata": {},
   "outputs": [],
   "source": [
    "#listar empresas no arquivo\n",
    "lista_cias = base_dados[['DENOM_CIA', 'CD_CVM']]\n",
    "lista_cias = lista_cias.drop_duplicates()\n",
    "\n",
    "#transformar salvar arquivo em csv\n",
    "path_dados_gerais = os.getenv(\"PATH_DADOS_GERAIS\")\n",
    "lista_cias = pd.DataFrame(lista_cias)\n",
    "lista_cias.to_csv(path_dados_gerais + 'lista_cias.csv', sep=\";\")\n",
    "print(\"Arquivo 'lista_cias.csv' salvo com sucesso!\")"
   ]
  }
 ],
 "metadata": {
  "kernelspec": {
   "display_name": "Python 3",
   "language": "python",
   "name": "python3"
  },
  "language_info": {
   "codemirror_mode": {
    "name": "ipython",
    "version": 3
   },
   "file_extension": ".py",
   "mimetype": "text/x-python",
   "name": "python",
   "nbconvert_exporter": "python",
   "pygments_lexer": "ipython3",
   "version": "3.11.9"
  },
  "orig_nbformat": 4
 },
 "nbformat": 4,
 "nbformat_minor": 2
}
