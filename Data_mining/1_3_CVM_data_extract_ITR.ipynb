{
 "cells": [
  {
   "cell_type": "code",
   "execution_count": 5,
   "metadata": {},
   "outputs": [],
   "source": [
    "import yfinance as yf\n",
    "import pandas as pd\n",
    "import statsmodels.api as sm\n",
    "from datetime import timedelta\n",
    "from datetime import datetime\n",
    "import requests\n",
    "import zipfile \n",
    "import os\n"
   ]
  },
  {
   "cell_type": "markdown",
   "metadata": {},
   "source": [
    "Extrair ITR (Formulário de Informações Trimestrais) da CVM e salvar arquivos (1 para cada ano)"
   ]
  },
  {
   "cell_type": "code",
   "execution_count": 6,
   "metadata": {},
   "outputs": [],
   "source": [
    "path_dados_trimestrais = \"C:\\\\workspace_mestrado\\\\dados_cvm_trimestrais\\\\\"\n",
    "#chdir tem a função de mudar o diretório de trabalho\n",
    "os.chdir(f\"{path_dados_trimestrais}\")\n",
    "\n",
    "anos = range(2011, 2025)\n",
    "url_base = \"http://dados.cvm.gov.br//dados//CIA_ABERTA//DOC//ITR//DADOS//\"\n",
    "\n",
    "for ano in anos:\n",
    "    download = requests.get(url_base + f'itr_cia_aberta_{ano}.zip')\n",
    "    open(f\"itr_cia_aberta_{ano}.zip\", \"wb\").write(download.content)"
   ]
  },
  {
   "cell_type": "markdown",
   "metadata": {},
   "source": [
    "Junta os arquivos trimestrais de dados em 1 só arquivo"
   ]
  },
  {
   "cell_type": "code",
   "execution_count": 7,
   "metadata": {},
   "outputs": [
    {
     "name": "stdout",
     "output_type": "stream",
     "text": [
      "Arquivo itr_cia_aberta_2011.zip extraído\n",
      "*Arquivo itr_cia_aberta_DRE_con_2011.csv adicionado à lista de demonstrações\n",
      "Arquivo itr_cia_aberta_2012.zip extraído\n",
      "*Arquivo itr_cia_aberta_DRE_con_2012.csv adicionado à lista de demonstrações\n",
      "Arquivo itr_cia_aberta_2013.zip extraído\n",
      "*Arquivo itr_cia_aberta_DRE_con_2013.csv adicionado à lista de demonstrações\n",
      "Arquivo itr_cia_aberta_2014.zip extraído\n",
      "*Arquivo itr_cia_aberta_DRE_con_2014.csv adicionado à lista de demonstrações\n",
      "Arquivo itr_cia_aberta_2015.zip extraído\n",
      "*Arquivo itr_cia_aberta_DRE_con_2015.csv adicionado à lista de demonstrações\n",
      "Arquivo itr_cia_aberta_2016.zip extraído\n",
      "*Arquivo itr_cia_aberta_DRE_con_2016.csv adicionado à lista de demonstrações\n",
      "Arquivo itr_cia_aberta_2017.zip extraído\n",
      "*Arquivo itr_cia_aberta_DRE_con_2017.csv adicionado à lista de demonstrações\n",
      "Arquivo itr_cia_aberta_2018.zip extraído\n",
      "*Arquivo itr_cia_aberta_DRE_con_2018.csv adicionado à lista de demonstrações\n",
      "Arquivo itr_cia_aberta_2019.zip extraído\n",
      "*Arquivo itr_cia_aberta_DRE_con_2019.csv adicionado à lista de demonstrações\n",
      "Arquivo itr_cia_aberta_2020.zip extraído\n",
      "*Arquivo itr_cia_aberta_DRE_con_2020.csv adicionado à lista de demonstrações\n",
      "Arquivo itr_cia_aberta_2021.zip extraído\n",
      "*Arquivo itr_cia_aberta_DRE_con_2021.csv adicionado à lista de demonstrações\n",
      "Arquivo itr_cia_aberta_2022.zip extraído\n",
      "*Arquivo itr_cia_aberta_DRE_con_2022.csv adicionado à lista de demonstrações\n",
      "Arquivo itr_cia_aberta_2023.zip extraído\n",
      "*Arquivo itr_cia_aberta_DRE_con_2023.csv adicionado à lista de demonstrações\n",
      "Arquivo itr_cia_aberta_2024.zip extraído\n",
      "*Arquivo itr_cia_aberta_DRE_con_2024.csv adicionado à lista de demonstrações\n"
     ]
    }
   ],
   "source": [
    "path_dados_trimestrais = \"C:\\\\workspace_mestrado\\\\dados_cvm_trimestrais\\\\\"\n",
    "\n",
    "lista_demonstracoes_2010_2022 = []\n",
    "diretorio_atual = os.getcwd()\n",
    "\n",
    "for arquivo in os.listdir(f\"{path_dados_trimestrais}\"):\n",
    "    if arquivo.endswith(\".zip\"):\n",
    "        with zipfile.ZipFile(arquivo, \"r\") as zipped:\n",
    "            zipped.extractall()\n",
    "            print(f\"Arquivo {arquivo} extraído\")\n",
    "            for arquivo_csv in zipped.namelist():\n",
    "                if arquivo_csv.endswith(\".csv\") and \"DRE\" in arquivo_csv and \"con\" in arquivo_csv:\n",
    "                    #pegar apenas os arquivos que tiverem DRE no nome\n",
    "                    demonstracao = pd.read_csv(arquivo_csv, sep=\";\", decimal=\",\", encoding=\"ISO-8859-1\", dtype= {\"ORDEM_EXERC\": \"category\"})\n",
    "                    lista_demonstracoes_2010_2022.append(demonstracao)\n",
    "                    \n",
    "                    print(f\"*Arquivo {arquivo_csv} adicionado à lista de demonstrações\")\n",
    "                os.remove(arquivo_csv)\n",
    "\n"
   ]
  },
  {
   "cell_type": "markdown",
   "metadata": {},
   "source": [
    "Elimina dados desnecessários e salva arquivo em .csv"
   ]
  },
  {
   "cell_type": "code",
   "execution_count": 8,
   "metadata": {},
   "outputs": [
    {
     "name": "stdout",
     "output_type": "stream",
     "text": [
      "Arquivo salvo com sucesso!\n"
     ]
    }
   ],
   "source": [
    "dase_dados_tri = pd.concat(lista_demonstracoes_2010_2022)\n",
    "\n",
    "dase_dados_tri[['con_ind', 'tipo_dem']] = dase_dados_tri['GRUPO_DFP'].str.split(' - ', expand=True)\n",
    "dase_dados_tri['tipo_dem'] = dase_dados_tri['tipo_dem'].str.strip()\n",
    "dase_dados_tri = dase_dados_tri[dase_dados_tri['ORDEM_EXERC'] != 'PENÚLTIMO']\n",
    "\n",
    "#remoção de colunas que não serão utilizadas\n",
    "dase_dados_tri = dase_dados_tri.drop(columns=['CNPJ_CIA', 'MOEDA', 'ORDEM_EXERC', 'con_ind', 'GRUPO_DFP', 'tipo_dem'])\n",
    "\n",
    "\n",
    "dase_dados_tri['DT_REFER'] = pd.to_datetime(dase_dados_tri['DT_REFER'], format='ISO8601')\n",
    "dase_dados_tri['DT_INI_EXERC'] = pd.to_datetime(dase_dados_tri['DT_INI_EXERC'], format='ISO8601')\n",
    "dase_dados_tri['DT_FIM_EXERC'] = pd.to_datetime(dase_dados_tri['DT_FIM_EXERC'], format='ISO8601')\n",
    "\n",
    "\n",
    "dase_dados_tri.to_csv('C:\\\\workspace_mestrado\\\\dados_cvm_trimestrais\\\\base_dados_tri_2024.csv', sep=\";\")\n",
    "print(\"Arquivo salvo com sucesso!\")"
   ]
  }
 ],
 "metadata": {
  "kernelspec": {
   "display_name": "Python 3",
   "language": "python",
   "name": "python3"
  },
  "language_info": {
   "codemirror_mode": {
    "name": "ipython",
    "version": 3
   },
   "file_extension": ".py",
   "mimetype": "text/x-python",
   "name": "python",
   "nbconvert_exporter": "python",
   "pygments_lexer": "ipython3",
   "version": "3.11.9"
  },
  "orig_nbformat": 4
 },
 "nbformat": 4,
 "nbformat_minor": 2
}
