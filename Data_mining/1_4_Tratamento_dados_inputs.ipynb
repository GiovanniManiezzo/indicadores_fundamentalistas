{
 "cells": [
  {
   "cell_type": "code",
   "execution_count": 3,
   "metadata": {},
   "outputs": [],
   "source": [
    "import pandas as pd\n",
    "import yfinance as yf"
   ]
  },
  {
   "cell_type": "markdown",
   "metadata": {},
   "source": [
    "IBOV"
   ]
  },
  {
   "cell_type": "code",
   "execution_count": 4,
   "metadata": {},
   "outputs": [
    {
     "name": "stdout",
     "output_type": "stream",
     "text": [
      "Arquivo ibov.csv criado com sucesso!\n",
      "                Close\n",
      "DATE                 \n",
      "1993-04-27  24.500000\n",
      "1993-04-28  24.299999\n",
      "1993-04-29  23.700001\n",
      "1993-04-30  24.100000\n",
      "1993-05-03  24.100000\n"
     ]
    }
   ],
   "source": [
    "# Pegar dados do ibovespa\n",
    "tickerData = yf.Ticker('^BVSP')\n",
    "# Importar dados usando taxa de amostragem de 1 mês\n",
    "tickerDf = tickerData.history(period='1mo', start='1900-12-31', end='2024-06-28')\n",
    "# Deixar apenas data no indíce\n",
    "tickerDf.index = tickerDf.index\n",
    "ibov = tickerDf[['Close']]\n",
    "ibov = ibov.rename_axis('DATE')\n",
    "ibov.index = ibov.index.tz_localize(None)\n",
    "ibov.to_csv('ibov.csv', sep=';', index=True, header=True)\n",
    "print(\"Arquivo ibov.csv criado com sucesso!\")\n",
    "print(ibov.head())"
   ]
  },
  {
   "cell_type": "markdown",
   "metadata": {},
   "source": [
    "IEE"
   ]
  },
  {
   "cell_type": "code",
   "execution_count": null,
   "metadata": {},
   "outputs": [],
   "source": [
    "# Carregar o arquivo CSV usando o ponto e vírgula como separador\n",
    "data = pd.read_csv(\"dados_iee_1997_2023.csv\", encoding='ISO-8859-1', sep=';')\n",
    "# Ajustar a criação da coluna 'Data'\n",
    "data['Data'] = pd.to_datetime(data['Ano'].astype(str) + '-' + data['Mês'].astype(str) + '-01')\n",
    "iee = data[['Data', 'Valor']]\n",
    "iee = iee.set_index('Data')\n",
    "iee.to_csv('iee.csv', sep=';',index=True, header=True)\n",
    "print(\"Arquivo convertido com sucesso!\")\n",
    "print(iee.head())"
   ]
  },
  {
   "cell_type": "markdown",
   "metadata": {},
   "source": [
    "INCC/IPCA/IGPM"
   ]
  },
  {
   "cell_type": "code",
   "execution_count": null,
   "metadata": {},
   "outputs": [],
   "source": [
    "file_path = 'INCC_raw.csv'\n",
    "data = pd.read_csv(file_path)\n",
    "# Transformando as colunas de meses em linhas\n",
    "data_melted = data.melt(id_vars=[\"Ano\"], var_name=\"Mes\", value_name=\"Valor\")\n",
    "\n",
    "# Convertendo a coluna 'Mes' para formato de data (considerando o primeiro dia de cada mês)\n",
    "# e combinando com o ano\n",
    "# Mapeamento dos nomes dos meses em português para inglês\n",
    "meses_map = {\n",
    "    'Jan': 'Jan', 'Fev': 'Feb', 'Mar': 'Mar', 'Abr': 'Apr', 'Mai': 'May', 'Jun': 'Jun',\n",
    "    'Jul': 'Jul', 'Ago': 'Aug', 'Set': 'Sep', 'Out': 'Oct', 'Nov': 'Nov', 'Dez': 'Dec'\n",
    "}\n",
    "\n",
    "# Aplicando o mapeamento na coluna 'Mes'\n",
    "data_melted['Mes'] = data_melted['Mes'].map(meses_map)\n",
    "\n",
    "# Tentando novamente a conversão para data\n",
    "data_melted['Data'] = pd.to_datetime(data_melted['Ano'].astype(str) + data_melted['Mes'], format='%Y%b')\n",
    "\n",
    "# Organizando as colunas e removendo as colunas extras\n",
    "data_final = data_melted[['Data', 'Valor']].sort_values(by='Data').reset_index(drop=True)\n",
    "data_final = data_final.set_index(data_final.columns[0])\n",
    "\n",
    "# Exibindo as primeiras linhas do dataframe final\n",
    "data_final.head()\n",
    "data_final.to_csv('INCC.csv')"
   ]
  },
  {
   "cell_type": "markdown",
   "metadata": {},
   "source": [
    "SELIC"
   ]
  },
  {
   "cell_type": "code",
   "execution_count": null,
   "metadata": {},
   "outputs": [],
   "source": [
    "import pandas as pd\n",
    "import numpy as np\n",
    "\n",
    "#importar .csv com os dados históricos da meta selic, taxa selic, TBC, TBAN e data das reuniões do COPOM\n",
    "selic_raw = pd.read_csv('selic_raw.csv', header=0, sep=',', index_col=0) \n",
    "\n",
    "#criar dataframe a partir de três colunas (data e taxa a.a.) do dataframe df\n",
    "only_selic = selic_raw.iloc[:,[0,6]]\n",
    "\n",
    "\n",
    "\n",
    "#seperar dia, mes e ano da coluna data do dataframe only_selic\n",
    "counter = 0\n",
    "dia = list(range(0, len(only_selic['data'])))\n",
    "mes_selic = list(range(0, len(only_selic['data'])))\n",
    "ano_selic = list(range(0, len(only_selic['data'])))\n",
    "for i in only_selic['data']:\n",
    "    dia[counter], mes_selic[counter], ano_selic[counter] = str(i).split('/')\n",
    "    counter += 1\n",
    "\n",
    "#remover valores duplicados de mes e ano\n",
    "mes_selic = list(dict.fromkeys(mes_selic))\n",
    "ano_selic = list(dict.fromkeys(ano_selic))\n",
    "\n",
    "#faz a transposta da lista ano\n",
    "ano = np.transpose(ano_selic)\n",
    "#utilizar metodo reverse na lista ano\n",
    "ano = list(reversed(ano))\n",
    "\n",
    "\n",
    "#criando lista de colunas\n",
    "mes =['Janeiro', 'Fevereiro', 'Março', 'Abril', 'Maio', 'Junho', 'Julho', 'Agosto','Setembro', 'Outubro', 'Novembro', 'Dezembro']\n",
    "selic = pd.DataFrame(index=mes, columns=ano)\n",
    "\n",
    "#criar lista com as datas em ordem crescente\n",
    "data_crescente = np.transpose(only_selic['data'])\n",
    "data_crescente = list(reversed(data_crescente))\n",
    "\n",
    "taxa_crescente = np.transpose(only_selic['taxa a.a.'])\n",
    "taxa_crescente = list(reversed(taxa_crescente))\n",
    "\n",
    "#criar dataframe padronizado para a taxa selic e suas datas\n",
    "counter=0\n",
    "last_value = None\n",
    "last_month = None\n",
    "for i in ano:\n",
    "    for j in range(1,13):\n",
    "        dia_comp, mes_comp, ano_comp = str(data_crescente[counter]).split('/')\n",
    "\n",
    "        if(ano_comp == i and int(mes_comp) == j):\n",
    "            last_value = taxa_crescente[counter]\n",
    "            counter += 1\n",
    "\n",
    "        #Encerrar o loop quando o contador for igual ao tamanho da lista data_crescente\n",
    "        if(counter == len(data_crescente)):\n",
    "            break\n",
    "        #encontrar indice de i na lista ano\n",
    "        index_ano = ano.index(i)\n",
    "        selic.iloc[j-1, index_ano] = last_value\n",
    "\n",
    "        #armazena os valores da próxima iteração casa haja mais de uma reunião no mesmo mês\n",
    "        if(counter < 252):\n",
    "            mes_comp_future   = str(data_crescente[counter]).split('/')[1]\n",
    "            mes_comp_future_2 = str(data_crescente[counter+1]).split('/')[1]\n",
    "            if(ano_comp == i and int(mes_comp_future) == j):\n",
    "                counter += 1\n",
    "                last_value = taxa_crescente[counter]\n",
    "                \n",
    "            if(ano_comp == i and int(mes_comp_future_2) == j):\n",
    "                counter += 1\n",
    "                last_value = taxa_crescente[counter]\n",
    "\n",
    "print(selic)\n",
    "selic.to_csv('selic.csv', sep=';', index=True, header=True)"
   ]
  }
 ],
 "metadata": {
  "kernelspec": {
   "display_name": "Python 3",
   "language": "python",
   "name": "python3"
  },
  "language_info": {
   "codemirror_mode": {
    "name": "ipython",
    "version": 3
   },
   "file_extension": ".py",
   "mimetype": "text/x-python",
   "name": "python",
   "nbconvert_exporter": "python",
   "pygments_lexer": "ipython3",
   "version": "3.11.7"
  }
 },
 "nbformat": 4,
 "nbformat_minor": 2
}
