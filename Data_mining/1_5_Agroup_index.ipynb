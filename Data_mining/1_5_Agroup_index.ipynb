{
 "cells": [
  {
   "cell_type": "code",
   "execution_count": 1,
   "id": "c40414ad",
   "metadata": {},
   "outputs": [],
   "source": [
    "import pandas as pd\n",
    "import numpy as np\n",
    "from dotenv import load_dotenv\n",
    "import os\n",
    "import yfinance as yf"
   ]
  },
  {
   "cell_type": "code",
   "execution_count": null,
   "id": "89ec1312",
   "metadata": {},
   "outputs": [],
   "source": [
    "load_dotenv()\n",
    "path_dados_indices = os.getenv('PATH_DADOS_GERAIS')\n",
    "\n",
    "# Pegar dados do ibovespa\n",
    "tickerData = yf.Ticker('^BVSP')\n",
    "# Importar dados usando taxa de amostragem de 1 mês\n",
    "tickerDf = tickerData.history(period='1mo', start='2010-01-01', end='2024-06-30')\n",
    "# Deixar apenas data no indíce\n",
    "tickerDf.index = tickerDf.index\n",
    "ibov = tickerDf[['Close']]\n",
    "ibov = ibov.rename_axis('DATE')\n",
    "ibov.index = ibov.index.tz_localize(None)\n",
    "\n",
    "\n",
    "fgv_index = pd.read_csv(path_dados_indices + 'fgv_variaveis.csv')\n",
    "iee_index = pd.read_csv(path_dados_indices + 'iee.csv', sep=';')\n",
    "incc_index = pd.read_csv(path_dados_indices + 'INCC.csv')\n",
    "igpm_index = pd.read_csv(path_dados_indices + 'new_igpm.csv', sep=';')\n",
    "ipca_index = pd.read_csv(path_dados_indices + 'new_ipca.csv', sep=';')\n",
    "selic_index = pd.read_csv(path_dados_indices + 'new_selic.csv', sep=';')\n",
    "vix_index = pd.read_csv(path_dados_indices + 'VIX_History.csv')[['DATE', 'CLOSE']]\n",
    "fgv_index2 = pd.read_csv(path_dados_indices + 'xgvxConsulta.csv', sep=';')"
   ]
  },
  {
   "cell_type": "code",
   "execution_count": 141,
   "id": "0d23e373",
   "metadata": {},
   "outputs": [],
   "source": [
    "fgv_index2 = pd.read_csv(path_dados_indices + 'xgvxConsulta.csv', sep=';')"
   ]
  },
  {
   "cell_type": "code",
   "execution_count": null,
   "id": "ea81ccd0",
   "metadata": {},
   "outputs": [],
   "source": [
    "#Removendo colunas com poucos valores ou não utilizadas\n",
    "fgv_index = fgv_index.drop(columns=['Índice de Variação de Aluguéis Residenciais (IVAR) - Média Nacional (1463201)'])\n",
    "fgv_index2 = fgv_index2.drop(columns=['Unnamed: 1', 'Unnamed: 2', 'Unnamed: 3', 'Unnamed: 4', 'Unnamed: 6', 'Unnamed: 7', 'Unnamed: 9', 'Unnamed: 10', 'Unnamed: 12'])"
   ]
  },
  {
   "cell_type": "code",
   "execution_count": 149,
   "id": "59c7a9bb",
   "metadata": {},
   "outputs": [],
   "source": [
    "#Ajustando formato da coluna de data para datetime e filtrando janela necessária\n",
    "fgv_index2['Data'] = pd.to_datetime(fgv_index2['Data'], format='%m/%Y')\n",
    "fgv_index2 = fgv_index2.rename(columns={'Data': 'data'})\n",
    "fgv_index2 = fgv_index2[fgv_index2['data'] >= '2010-01-01']\n",
    "fgv_index2 = fgv_index2[fgv_index2['data'] <= '2024-12-31']"
   ]
  },
  {
   "cell_type": "code",
   "execution_count": 155,
   "id": "a94a91f2",
   "metadata": {},
   "outputs": [],
   "source": [
    "#Tratamento dos dados\n",
    "fgv_index2.set_index('data', inplace=True)\n",
    "fgv_index2 = fgv_index2.replace({r'\\.': '', ',': '.'}, regex=True)\n",
    "fgv_index2 = fgv_index2.replace('-',0)\n",
    "fgv_index2 = fgv_index2.replace(' - ',0)\n",
    "fgv_index2 = fgv_index2.apply(pd.to_numeric)"
   ]
  },
  {
   "cell_type": "code",
   "execution_count": 157,
   "id": "10e3128f",
   "metadata": {},
   "outputs": [
    {
     "data": {
      "text/html": [
       "<div>\n",
       "<style scoped>\n",
       "    .dataframe tbody tr th:only-of-type {\n",
       "        vertical-align: middle;\n",
       "    }\n",
       "\n",
       "    .dataframe tbody tr th {\n",
       "        vertical-align: top;\n",
       "    }\n",
       "\n",
       "    .dataframe thead th {\n",
       "        text-align: right;\n",
       "    }\n",
       "</style>\n",
       "<table border=\"1\" class=\"dataframe\">\n",
       "  <thead>\n",
       "    <tr style=\"text-align: right;\">\n",
       "      <th></th>\n",
       "      <th>1</th>\n",
       "      <th>2</th>\n",
       "      <th>3</th>\n",
       "      <th>4</th>\n",
       "      <th>5</th>\n",
       "      <th>6</th>\n",
       "      <th>7</th>\n",
       "      <th>8</th>\n",
       "      <th>9</th>\n",
       "    </tr>\n",
       "    <tr>\n",
       "      <th>data</th>\n",
       "      <th></th>\n",
       "      <th></th>\n",
       "      <th></th>\n",
       "      <th></th>\n",
       "      <th></th>\n",
       "      <th></th>\n",
       "      <th></th>\n",
       "      <th></th>\n",
       "      <th></th>\n",
       "    </tr>\n",
       "  </thead>\n",
       "  <tbody>\n",
       "    <tr>\n",
       "      <th>2023-12-31</th>\n",
       "      <td>5.220000</td>\n",
       "      <td>4.583333</td>\n",
       "      <td>4.952167</td>\n",
       "      <td>12.236667</td>\n",
       "      <td>6.550000</td>\n",
       "      <td>14892.666667</td>\n",
       "      <td>15977.000000</td>\n",
       "      <td>8694.000000</td>\n",
       "      <td>59.453333</td>\n",
       "    </tr>\n",
       "    <tr>\n",
       "      <th>2024-03-31</th>\n",
       "      <td>5.330000</td>\n",
       "      <td>3.093333</td>\n",
       "      <td>4.952367</td>\n",
       "      <td>11.266667</td>\n",
       "      <td>6.530000</td>\n",
       "      <td>15421.000000</td>\n",
       "      <td>15791.000000</td>\n",
       "      <td>9017.000000</td>\n",
       "      <td>60.193333</td>\n",
       "    </tr>\n",
       "    <tr>\n",
       "      <th>2024-06-30</th>\n",
       "      <td>5.330000</td>\n",
       "      <td>4.573333</td>\n",
       "      <td>5.216433</td>\n",
       "      <td>10.503333</td>\n",
       "      <td>6.680000</td>\n",
       "      <td>14567.000000</td>\n",
       "      <td>16411.666667</td>\n",
       "      <td>8715.000000</td>\n",
       "      <td>61.130000</td>\n",
       "    </tr>\n",
       "    <tr>\n",
       "      <th>2024-09-30</th>\n",
       "      <td>5.263333</td>\n",
       "      <td>4.216667</td>\n",
       "      <td>5.544800</td>\n",
       "      <td>10.400000</td>\n",
       "      <td>6.903333</td>\n",
       "      <td>13777.666667</td>\n",
       "      <td>16986.666667</td>\n",
       "      <td>7932.333333</td>\n",
       "      <td>61.383333</td>\n",
       "    </tr>\n",
       "    <tr>\n",
       "      <th>2024-12-31</th>\n",
       "      <td>4.650000</td>\n",
       "      <td>4.500000</td>\n",
       "      <td>5.842133</td>\n",
       "      <td>10.946667</td>\n",
       "      <td>7.430000</td>\n",
       "      <td>15047.333333</td>\n",
       "      <td>16661.333333</td>\n",
       "      <td>8711.000000</td>\n",
       "      <td>61.360000</td>\n",
       "    </tr>\n",
       "  </tbody>\n",
       "</table>\n",
       "</div>"
      ],
      "text/plain": [
       "                   1         2         3          4         5             6  \\\n",
       "data                                                                          \n",
       "2023-12-31  5.220000  4.583333  4.952167  12.236667  6.550000  14892.666667   \n",
       "2024-03-31  5.330000  3.093333  4.952367  11.266667  6.530000  15421.000000   \n",
       "2024-06-30  5.330000  4.573333  5.216433  10.503333  6.680000  14567.000000   \n",
       "2024-09-30  5.263333  4.216667  5.544800  10.400000  6.903333  13777.666667   \n",
       "2024-12-31  4.650000  4.500000  5.842133  10.946667  7.430000  15047.333333   \n",
       "\n",
       "                       7            8          9  \n",
       "data                                              \n",
       "2023-12-31  15977.000000  8694.000000  59.453333  \n",
       "2024-03-31  15791.000000  9017.000000  60.193333  \n",
       "2024-06-30  16411.666667  8715.000000  61.130000  \n",
       "2024-09-30  16986.666667  7932.333333  61.383333  \n",
       "2024-12-31  16661.333333  8711.000000  61.360000  "
      ]
     },
     "execution_count": 157,
     "metadata": {},
     "output_type": "execute_result"
    }
   ],
   "source": [
    "#mudar a taxa de amostragem dos dados de mensal para trimestral\n",
    "fgv_index2 = fgv_index2.resample('QE').mean()\n",
    "fgv_index2.tail()"
   ]
  },
  {
   "cell_type": "code",
   "execution_count": 160,
   "id": "59d4bd0d",
   "metadata": {},
   "outputs": [],
   "source": [
    "#renomear as colunas para facilitar o entendimento\n",
    "fgv_index2 = fgv_index2.rename(columns={\"1\": \"Juros EUA\", \"2\": \"Tbonds\", \"3\": \"Cotacao dolar\", \"4\": \"CDI\",\n",
    "                                         \"5\": \"TJLP\", \"6\": \"Energia res\", \"7\": \"Energia ind\", \"8\": \"Energia comer\",\n",
    "                                         \"9\": \"Divida/PIB\"})"
   ]
  },
  {
   "cell_type": "code",
   "execution_count": 161,
   "id": "4d95f558",
   "metadata": {},
   "outputs": [
    {
     "name": "stdout",
     "output_type": "stream",
     "text": [
      "<class 'pandas.core.frame.DataFrame'>\n",
      "DatetimeIndex: 60 entries, 2010-03-31 to 2024-12-31\n",
      "Freq: QE-DEC\n",
      "Data columns (total 9 columns):\n",
      " #   Column         Non-Null Count  Dtype  \n",
      "---  ------         --------------  -----  \n",
      " 0   Juros EUA      60 non-null     float64\n",
      " 1   Tbonds         60 non-null     float64\n",
      " 2   Cotacao dolar  60 non-null     float64\n",
      " 3   CDI            60 non-null     float64\n",
      " 4   TJLP           60 non-null     float64\n",
      " 5   Energia res    60 non-null     float64\n",
      " 6   Energia ind    60 non-null     float64\n",
      " 7   Energia comer  60 non-null     float64\n",
      " 8   Divida/PIB     60 non-null     float64\n",
      "dtypes: float64(9)\n",
      "memory usage: 4.7 KB\n"
     ]
    }
   ],
   "source": [
    "fgv_index2.info()"
   ]
  },
  {
   "cell_type": "code",
   "execution_count": 40,
   "id": "2fc29199",
   "metadata": {},
   "outputs": [
    {
     "name": "stdout",
     "output_type": "stream",
     "text": [
      "<class 'pandas.core.frame.DataFrame'>\n",
      "RangeIndex: 8697 entries, 0 to 8696\n",
      "Data columns (total 2 columns):\n",
      " #   Column  Non-Null Count  Dtype  \n",
      "---  ------  --------------  -----  \n",
      " 0   DATE    8697 non-null   object \n",
      " 1   CLOSE   8697 non-null   float64\n",
      "dtypes: float64(1), object(1)\n",
      "memory usage: 136.0+ KB\n"
     ]
    }
   ],
   "source": [
    "vix_index.info()"
   ]
  },
  {
   "cell_type": "code",
   "execution_count": 55,
   "id": "a843c401",
   "metadata": {},
   "outputs": [],
   "source": [
    "#converter a primeira coluna dos dataframes para datetime\n",
    "iee_index['Data'] = pd.to_datetime(iee_index['Data'])\n",
    "incc_index['Data'] = pd.to_datetime(incc_index['Data'])\n",
    "igpm_index['DATA'] = pd.to_datetime(igpm_index['DATA'])\n",
    "ipca_index['DATA'] = pd.to_datetime(ipca_index['DATA'])\n",
    "selic_index['DATA'] = pd.to_datetime(selic_index['DATA'])\n",
    "vix_index['DATE'] = pd.to_datetime(vix_index['DATE'])"
   ]
  },
  {
   "cell_type": "markdown",
   "id": "f72c738b",
   "metadata": {},
   "source": [
    "Filtrar a janela de tempo que será utilizada"
   ]
  },
  {
   "cell_type": "code",
   "execution_count": 56,
   "id": "083f120f",
   "metadata": {},
   "outputs": [],
   "source": [
    "# Filtrar datas entre 2010 e 2024 para todos os dataframes trimestrais\n",
    "\n",
    "def filtra_periodo(df):\n",
    "    col_data = df.columns[0]\n",
    "    df = df.copy()\n",
    "    df[col_data] = pd.to_datetime(df[col_data]).dt.tz_localize(None)\n",
    "    return df[(df[col_data] >= '2010-01-01') & (df[col_data] <= '2024-12-31')]\n",
    "\n",
    "ibov_trimestral_filtrado = filtra_periodo(ibov)\n",
    "iee_trimestral_filtrado = filtra_periodo(iee_index)\n",
    "incc_trimestral_filtrado = filtra_periodo(incc_index)\n",
    "igpm_trimestral_filtrado = filtra_periodo(igpm_index)\n",
    "ipca_trimestral_filtrado = filtra_periodo(ipca_index)\n",
    "selic_trimestral_filtrado = filtra_periodo(selic_index)\n",
    "vix_trimestral_filtrado = filtra_periodo(vix_index)\n",
    "\n",
    "# Padronizar as colunas de data para datetime64[ns] sem timezone\n",
    "for df in [ibov_trimestral_filtrado, iee_trimestral_filtrado, incc_trimestral_filtrado, igpm_trimestral_filtrado, ipca_trimestral_filtrado, selic_trimestral_filtrado, vix_trimestral_filtrado]:\n",
    "    df[df.columns[0]] = pd.to_datetime(df[df.columns[0]]).dt.tz_localize(None)"
   ]
  },
  {
   "cell_type": "markdown",
   "id": "47e2f149",
   "metadata": {},
   "source": [
    "Ajustando a taxa de amostragem dos dados diários para trimestrais"
   ]
  },
  {
   "cell_type": "code",
   "execution_count": 57,
   "id": "83e58a0e",
   "metadata": {},
   "outputs": [],
   "source": [
    "# Ajustando a taxa de amostragem dos dados diários para trimestrais\n",
    "from pandas.tseries.offsets import QuarterEnd\n",
    "\n",
    "def amostra_trimestral(df, data_col):\n",
    "    df = df.copy()\n",
    "    df[data_col] = pd.to_datetime(df[data_col]).dt.tz_localize(None)\n",
    "    df.set_index(data_col, inplace=True)\n",
    "    df_trimestral = df.resample('QE').last().reset_index()\n",
    "    return df_trimestral\n",
    "\n",
    "\n",
    "def amostra_trimestral_mean(df, data_col):\n",
    "    df = df.copy()\n",
    "    df[data_col] = pd.to_datetime(df[data_col]).dt.tz_localize(None)\n",
    "    df.set_index(data_col, inplace=True)\n",
    "    df_trimestral = df.resample('QE').mean().reset_index()\n",
    "    return df_trimestral\n",
    "\n",
    "def amostra_trimestral_agregada(df, data_col, valor_col):\n",
    "    df = df.copy()\n",
    "    df[data_col] = pd.to_datetime(df[data_col], errors='coerce')\n",
    "    if hasattr(df[data_col].dt, 'tz') and df[data_col].dt.tz is not None:\n",
    "        df[data_col] = df[data_col].dt.tz_localize(None)\n",
    "    df = df.dropna(subset=[data_col, valor_col])\n",
    "    df.set_index(data_col, inplace=True)\n",
    "    df = df.sort_index()\n",
    "    df[valor_col] = df[valor_col].astype(float) / 100\n",
    "    df_trimestral = (df[valor_col] + 1).resample('QE').prod() - 1\n",
    "    df_trimestral = df_trimestral.reset_index()\n",
    "    return df_trimestral\n",
    "\n",
    "# Exemplo para cada dataframe:\n",
    "ibov_index_trimestral = ibov.resample('QE').last().reset_index()\n",
    "iee_index_trimestral = amostra_trimestral(iee_trimestral_filtrado, data_col=iee_trimestral_filtrado.columns[0])\n",
    "selic_index_trimestral = amostra_trimestral_mean(selic_trimestral_filtrado, data_col=selic_trimestral_filtrado.columns[0])\n",
    "vix_index_trimestral = amostra_trimestral(vix_index, data_col=vix_index.columns[0])\n",
    "\n",
    "# Para índices percentuais:\n",
    "igpm_index_trimestral = amostra_trimestral_agregada(igpm_trimestral_filtrado, data_col=igpm_trimestral_filtrado.columns[0], valor_col=igpm_trimestral_filtrado.columns[1])\n",
    "ipca_index_trimestral = amostra_trimestral_agregada(ipca_trimestral_filtrado, data_col=ipca_trimestral_filtrado.columns[0], valor_col=ipca_trimestral_filtrado.columns[1])\n",
    "incc_index_trimestral = amostra_trimestral_agregada(incc_trimestral_filtrado, data_col=incc_trimestral_filtrado.columns[0], valor_col=incc_trimestral_filtrado.columns[1])"
   ]
  },
  {
   "cell_type": "code",
   "execution_count": null,
   "id": "cc0fc047",
   "metadata": {},
   "outputs": [],
   "source": [
    "iee_index_trimestral.columns = ['data', 'iee']\n",
    "selic_index_trimestral.columns = ['data', 'selic']\n",
    "incc_index_trimestral.columns = ['data', 'incc']\n",
    "ipca_index_trimestral.columns = ['data', 'ipca']\n",
    "igpm_index_trimestral.columns = ['data', 'igpm']\n",
    "vix_index_trimestral.columns = ['data', 'vix']\n",
    "ibov_index_trimestral.columns = ['data', 'ibov']\n",
    "fgv_index['Data'] = pd.to_datetime(fgv_index['Data'])\n",
    "fgv_index = fgv_index.rename(columns={'Data': 'data'})"
   ]
  },
  {
   "cell_type": "code",
   "execution_count": 59,
   "id": "dfe9b6cb",
   "metadata": {},
   "outputs": [
    {
     "data": {
      "text/html": [
       "<div>\n",
       "<style scoped>\n",
       "    .dataframe tbody tr th:only-of-type {\n",
       "        vertical-align: middle;\n",
       "    }\n",
       "\n",
       "    .dataframe tbody tr th {\n",
       "        vertical-align: top;\n",
       "    }\n",
       "\n",
       "    .dataframe thead th {\n",
       "        text-align: right;\n",
       "    }\n",
       "</style>\n",
       "<table border=\"1\" class=\"dataframe\">\n",
       "  <thead>\n",
       "    <tr style=\"text-align: right;\">\n",
       "      <th></th>\n",
       "      <th>data</th>\n",
       "      <th>ibov</th>\n",
       "    </tr>\n",
       "  </thead>\n",
       "  <tbody>\n",
       "    <tr>\n",
       "      <th>0</th>\n",
       "      <td>2010-03-31</td>\n",
       "      <td>70372.0</td>\n",
       "    </tr>\n",
       "    <tr>\n",
       "      <th>1</th>\n",
       "      <td>2010-06-30</td>\n",
       "      <td>60936.0</td>\n",
       "    </tr>\n",
       "    <tr>\n",
       "      <th>2</th>\n",
       "      <td>2010-09-30</td>\n",
       "      <td>69430.0</td>\n",
       "    </tr>\n",
       "    <tr>\n",
       "      <th>3</th>\n",
       "      <td>2010-12-31</td>\n",
       "      <td>69305.0</td>\n",
       "    </tr>\n",
       "    <tr>\n",
       "      <th>4</th>\n",
       "      <td>2011-03-31</td>\n",
       "      <td>68587.0</td>\n",
       "    </tr>\n",
       "  </tbody>\n",
       "</table>\n",
       "</div>"
      ],
      "text/plain": [
       "        data     ibov\n",
       "0 2010-03-31  70372.0\n",
       "1 2010-06-30  60936.0\n",
       "2 2010-09-30  69430.0\n",
       "3 2010-12-31  69305.0\n",
       "4 2011-03-31  68587.0"
      ]
     },
     "execution_count": 59,
     "metadata": {},
     "output_type": "execute_result"
    }
   ],
   "source": [
    "ibov_index_trimestral.head()"
   ]
  },
  {
   "cell_type": "code",
   "execution_count": null,
   "id": "ed34f599",
   "metadata": {},
   "outputs": [],
   "source": [
    "#Juntar os dataframes ibov_index_trimestral  iee_index_trimestral   selic_index_trimestral  vix_index_trimestral   igpm_index_trimestral ipca_index_trimestral incc_index_trimestral\n",
    "df_junto = ibov_index_trimestral.merge(iee_index_trimestral, on='data', )\n",
    "df_junto = df_junto.merge(selic_index_trimestral, on='data', suffixes=('', '_selic'))\n",
    "df_junto = df_junto.merge(vix_index_trimestral, on='data', suffixes=('', '_vix'))\n",
    "df_junto = df_junto.merge(igpm_index_trimestral, on='data', suffixes=('', '_igpm'))\n",
    "df_junto = df_junto.merge(ipca_index_trimestral, on='data', suffixes=('', '_ipca'))\n",
    "df_junto = df_junto.merge(incc_index_trimestral, on='data', suffixes=('', '_incc'))\n",
    "df_junto = df_junto.merge(fgv_index, on='data', suffixes=('', '_fgv'))\n",
    "df_junto = df_junto.merge(fgv_index2, on='data', suffixes=('', '_fgv2'))"
   ]
  },
  {
   "cell_type": "code",
   "execution_count": 169,
   "id": "4e2e9a98",
   "metadata": {},
   "outputs": [
    {
     "data": {
      "text/plain": [
       "Index(['data', 'ibov', 'iee', 'selic', 'vix', 'igpm', 'ipca', 'incc',\n",
       "       'IPAOG-DI Ipa - todos os itens - Nro. Índice(1477007)',\n",
       "       'INCC-Brasil-DI-Todos os itens(1464783)',\n",
       "       'Indicador de Incerteza da Economia Brasil (IIE-Br)(1428452)',\n",
       "       'Indicador de Incerteza da Economia Brasil - Componente Mídia (Mídia - IIE-Br)(1463188)',\n",
       "       'Indicador de Incerteza da Economia Brasil - Componente Expactativas (Expec IIE-Br)(1463189)',\n",
       "       'Indicador Antecedente de Emprego (IA Emp) com ajuste sazonal(1416205)',\n",
       "       'Indicador Antecedente de Emprego (IA Emp) com ajuste sazonal(1416205) (Variação Percentual em Relação ao Período Anterior)',\n",
       "       'PIB a preços de 1995(1428699)', 'PIB a preços correntes(1428698)',\n",
       "       'Índice de volume mensal  - PIB a preços de mercado (1428676)',\n",
       "       'Índice de volume mensal pela ótica da produção - Valor adicionado a preços básicos(1428677)',\n",
       "       'Índice de volume mensal pela ótica da produção - Valor adicionado a preços básicos - Agropecuária(1428678)',\n",
       "       'Índice de volume mensal pela ótica da produção - Valor adicionado a preços básicos - Indústria(1428679)',\n",
       "       'Índice de volume mensal pela ótica da produção - Valor adicionado a preços básicos - Serviços(1428680)',\n",
       "       'Índice de volume mensal pela ótica da produção - Impostos (1428681)',\n",
       "       'Índice de volume mensal com ajuste sazonal - PIB a preços de mercado (1428682)',\n",
       "       'Índice de volume mensal pela ótica da produção com ajuste sazonal -Valor adicionado (1428683)',\n",
       "       'Índice de volume mensal pela ótica da produção com ajuste sazonal - Valor adicionado - Agropecuária(1428684)',\n",
       "       'Índice de volume mensal pela ótica da produção com ajuste sazonal - Valor adicionado - Indústria(1428685)',\n",
       "       'Índice de volume mensal pela ótica da produção com ajuste sazonal - Valor adicionado - Serviços(1428686)',\n",
       "       'Índice de volume trimestral com ajuste sazonal - PIB(1428700)',\n",
       "       'Índice de volume trimestral com ajuste sazonal - Valor Adicionado(1428701)',\n",
       "       'Índice de volume trimestral com ajuste sazonal - Valor Adicionado - Agropecuária(1428702)',\n",
       "       'Índice de volume trimestral com ajuste sazonal - Valor Adicionado - Indústria(1428703)',\n",
       "       'Índice de volume trimestral com ajuste sazonal - Valor Adicionado - Serviços(1428704)',\n",
       "       'Índice da Taxa de Câmbio Real - (Real / Dólar (EUA))(1003592)',\n",
       "       'Índice da Taxa de Câmbio Real - (Real / Iene (Japão))(1003593)',\n",
       "       'Índice da Taxa de Câmbio Real - (Real / Peso (Argentina))(1003594)',\n",
       "       'Índice da Taxa de Câmbio Real - (Real / Euro (Zona do Euro))(1003595)',\n",
       "       'Índice da Taxa de Câmbio Real - (Real / Libra (Reino Unido))(1003596)',\n",
       "       'Índice da Taxa de Câmbio Efetiva Real - (Real / Cesta de Moedas)(1003597)',\n",
       "       'Juros EUA', 'Tbonds', 'Cotacao dolar', 'CDI', 'TJLP', 'Energia res',\n",
       "       'Energia ind', 'Energia comer', 'Divida/PIB'],\n",
       "      dtype='object')"
      ]
     },
     "execution_count": 169,
     "metadata": {},
     "output_type": "execute_result"
    }
   ],
   "source": [
    "df_junto.columns"
   ]
  },
  {
   "cell_type": "code",
   "execution_count": null,
   "id": "863b6ff3",
   "metadata": {},
   "outputs": [],
   "source": [
    "df_junto.to_csv(path_dados_indices + \"dados_indices.csv\", sep=';')"
   ]
  }
 ],
 "metadata": {
  "kernelspec": {
   "display_name": "Python 3",
   "language": "python",
   "name": "python3"
  },
  "language_info": {
   "codemirror_mode": {
    "name": "ipython",
    "version": 3
   },
   "file_extension": ".py",
   "mimetype": "text/x-python",
   "name": "python",
   "nbconvert_exporter": "python",
   "pygments_lexer": "ipython3",
   "version": "3.11.9"
  }
 },
 "nbformat": 4,
 "nbformat_minor": 5
}
