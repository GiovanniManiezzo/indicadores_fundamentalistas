{
 "cells": [
  {
   "cell_type": "code",
   "execution_count": 1,
   "metadata": {},
   "outputs": [],
   "source": [
    "import yfinance as yf\n",
    "import pandas as pd\n",
    "import statsmodels.api as sm\n",
    "from datetime import timedelta\n",
    "from datetime import datetime\n",
    "import requests\n",
    "import zipfile \n",
    "import os"
   ]
  },
  {
   "cell_type": "markdown",
   "metadata": {},
   "source": [
    "Extrair DFP (Demosntrações Financeira Padronizadas) da CVM - Resultados Anuais"
   ]
  },
  {
   "cell_type": "code",
   "execution_count": 2,
   "metadata": {},
   "outputs": [
    {
     "name": "stdout",
     "output_type": "stream",
     "text": [
      "Arquivo 2010 baixado e salvo\n",
      "Arquivo 2011 baixado e salvo\n",
      "Arquivo 2012 baixado e salvo\n",
      "Arquivo 2013 baixado e salvo\n",
      "Arquivo 2014 baixado e salvo\n",
      "Arquivo 2015 baixado e salvo\n",
      "Arquivo 2016 baixado e salvo\n",
      "Arquivo 2017 baixado e salvo\n",
      "Arquivo 2018 baixado e salvo\n",
      "Arquivo 2019 baixado e salvo\n",
      "Arquivo 2020 baixado e salvo\n",
      "Arquivo 2021 baixado e salvo\n",
      "Arquivo 2022 baixado e salvo\n",
      "Arquivo 2023 baixado e salvo\n",
      "Arquivo 2024 baixado e salvo\n"
     ]
    }
   ],
   "source": [
    "#pega o diretorio atual\n",
    "#diretorio_atual = os.getcwd()\n",
    "\n",
    "#definir caminho para salvar os arquivos -- editar aqui caso queira mudar\n",
    "os.chdir(f\"C:\\workspace_mestrado\\dados_cvm_anuais\")\n",
    "\n",
    "#pega dados desde 2010 --- editar aqui para pegar mais anos\n",
    "anos = range(2010, 2025)\n",
    "url_base = \"http://dados.cvm.gov.br//dados/CIA_ABERTA/DOC/DFP/DADOS/\"\n",
    "\n",
    "for ano in anos:\n",
    "    download = requests.get(url_base + f\"dfp_cia_aberta_{ano}.zip\")\n",
    "    #salvar o arquivo zip no caminho C:\\workspace_mestrado\\dados_cvm_anuais\n",
    "    open(f\"dfp_cia_aberta_{ano}.zip\", \"wb\").write(download.content)\n",
    "    print(f\"Arquivo {ano} baixado e salvo\")\n",
    "    "
   ]
  },
  {
   "cell_type": "markdown",
   "metadata": {},
   "source": [
    "Juntar arquivos separados em um único"
   ]
  },
  {
   "cell_type": "code",
   "execution_count": 3,
   "metadata": {},
   "outputs": [
    {
     "name": "stdout",
     "output_type": "stream",
     "text": [
      "Arquivo dfp_cia_aberta_2010.zip extraído\n",
      "*Arquivo dfp_cia_aberta_DRE_con_2010.csv adicionado à lista de demonstrações\n",
      "Arquivo dfp_cia_aberta_2011.zip extraído\n",
      "*Arquivo dfp_cia_aberta_DRE_con_2011.csv adicionado à lista de demonstrações\n",
      "Arquivo dfp_cia_aberta_2012.zip extraído\n",
      "*Arquivo dfp_cia_aberta_DRE_con_2012.csv adicionado à lista de demonstrações\n",
      "Arquivo dfp_cia_aberta_2013.zip extraído\n",
      "*Arquivo dfp_cia_aberta_DRE_con_2013.csv adicionado à lista de demonstrações\n",
      "Arquivo dfp_cia_aberta_2014.zip extraído\n",
      "*Arquivo dfp_cia_aberta_DRE_con_2014.csv adicionado à lista de demonstrações\n",
      "Arquivo dfp_cia_aberta_2015.zip extraído\n",
      "*Arquivo dfp_cia_aberta_DRE_con_2015.csv adicionado à lista de demonstrações\n",
      "Arquivo dfp_cia_aberta_2016.zip extraído\n",
      "*Arquivo dfp_cia_aberta_DRE_con_2016.csv adicionado à lista de demonstrações\n",
      "Arquivo dfp_cia_aberta_2017.zip extraído\n",
      "*Arquivo dfp_cia_aberta_DRE_con_2017.csv adicionado à lista de demonstrações\n",
      "Arquivo dfp_cia_aberta_2018.zip extraído\n",
      "*Arquivo dfp_cia_aberta_DRE_con_2018.csv adicionado à lista de demonstrações\n",
      "Arquivo dfp_cia_aberta_2019.zip extraído\n",
      "*Arquivo dfp_cia_aberta_DRE_con_2019.csv adicionado à lista de demonstrações\n",
      "Arquivo dfp_cia_aberta_2020.zip extraído\n",
      "*Arquivo dfp_cia_aberta_DRE_con_2020.csv adicionado à lista de demonstrações\n",
      "Arquivo dfp_cia_aberta_2021.zip extraído\n",
      "*Arquivo dfp_cia_aberta_DRE_con_2021.csv adicionado à lista de demonstrações\n",
      "Arquivo dfp_cia_aberta_2022.zip extraído\n",
      "*Arquivo dfp_cia_aberta_DRE_con_2022.csv adicionado à lista de demonstrações\n",
      "Arquivo dfp_cia_aberta_2023.zip extraído\n",
      "*Arquivo dfp_cia_aberta_DRE_con_2023.csv adicionado à lista de demonstrações\n",
      "Arquivo dfp_cia_aberta_2024.zip extraído\n",
      "*Arquivo dfp_cia_aberta_DRE_con_2024.csv adicionado à lista de demonstrações\n"
     ]
    }
   ],
   "source": [
    "lista_demonstracoes_2010_2022 = []\n",
    "#definir caminho para salvar os arquivos -- editar aqui caso queira mudar\n",
    "path = \"C:\\\\workspace_mestrado\\\\dados_cvm_anuais\\\\\"\n",
    "\n",
    "for arquivo in os.listdir(f\"{path}\"):\n",
    "    if arquivo.endswith(\".zip\"):\n",
    "        with zipfile.ZipFile(arquivo, \"r\") as zipped:\n",
    "            zipped.extractall()\n",
    "            print(f\"Arquivo {arquivo} extraído\")\n",
    "            for arquivo_csv in zipped.namelist():\n",
    "                if arquivo_csv.endswith(\".csv\") and \"DRE\" in arquivo_csv and \"con\" in arquivo_csv:\n",
    "                    #pegar apenas os arquivos que tiverem DRE no nome\n",
    "                    demonstracao = pd.read_csv(arquivo_csv, sep=\";\", decimal=\",\", encoding=\"ISO-8859-1\", dtype= {\"ORDEM_EXERC\": \"category\"})\n",
    "                    lista_demonstracoes_2010_2022.append(demonstracao)\n",
    "                    \n",
    "                    print(f\"*Arquivo {arquivo_csv} adicionado à lista de demonstrações\")\n",
    "                os.remove(arquivo_csv)        \n"
   ]
  },
  {
   "cell_type": "markdown",
   "metadata": {},
   "source": [
    "Ajustar base de dados"
   ]
  },
  {
   "cell_type": "code",
   "execution_count": 4,
   "metadata": {},
   "outputs": [
    {
     "name": "stdout",
     "output_type": "stream",
     "text": [
      "Arquivo salvo com sucesso!\n"
     ]
    }
   ],
   "source": [
    "#agrupa os itens da lista em um dataframe\n",
    "base_dados = pd.concat(lista_demonstracoes_2010_2022)\n",
    "\n",
    "base_dados[['con_ind', 'tipo_dem']] = base_dados['GRUPO_DFP'].str.split(' - ', expand=True)\n",
    "base_dados['tipo_dem'] = base_dados['tipo_dem'].str.strip()\n",
    "base_dados = base_dados[base_dados['ORDEM_EXERC'] != 'PENÚLTIMO']\n",
    "\n",
    "#remoção de colunas que não serão utilizadas\n",
    "base_dados = base_dados.drop(columns=['CNPJ_CIA', 'MOEDA', 'ORDEM_EXERC', 'con_ind', 'GRUPO_DFP', 'tipo_dem'])\n",
    "\n",
    "\n",
    "base_dados['DT_REFER'] = pd.to_datetime(base_dados['DT_REFER'], format='ISO8601')\n",
    "base_dados['DT_INI_EXERC'] = pd.to_datetime(base_dados['DT_INI_EXERC'], format='ISO8601')\n",
    "base_dados['DT_FIM_EXERC'] = pd.to_datetime(base_dados['DT_FIM_EXERC'], format='ISO8601')\n",
    "\n",
    "#transformar em csv\n",
    "base_dados.to_csv('C:\\\\workspace_mestrado\\\\dados_cvm_anuais\\\\base_dados_2024.csv', sep=\";\")\n",
    "print(\"Arquivo 'base_dados_2024.csv' salvo com sucesso!\")"
   ]
  },
  {
   "cell_type": "code",
   "execution_count": 5,
   "metadata": {},
   "outputs": [
    {
     "name": "stdout",
     "output_type": "stream",
     "text": [
      "Arquivo salvo com sucesso!\n"
     ]
    }
   ],
   "source": [
    "#listar empresas no arquivo\n",
    "lista_cias = base_dados[['DENOM_CIA', 'CD_CVM']]\n",
    "lista_cias = lista_cias.drop_duplicates()\n",
    "\n",
    "#transformar salvar arquivo em csv\n",
    "lista_cias = pd.DataFrame(lista_cias)\n",
    "lista_cias.to_csv('C:\\\\workspace_mestrado\\\\lista_cias.csv', sep=\";\")\n",
    "print(\"Arquivo 'lista_cias.csv' salvo com sucesso!\")"
   ]
  }
 ],
 "metadata": {
  "kernelspec": {
   "display_name": "Python 3",
   "language": "python",
   "name": "python3"
  },
  "language_info": {
   "codemirror_mode": {
    "name": "ipython",
    "version": 3
   },
   "file_extension": ".py",
   "mimetype": "text/x-python",
   "name": "python",
   "nbconvert_exporter": "python",
   "pygments_lexer": "ipython3",
   "version": "3.11.9"
  }
 },
 "nbformat": 4,
 "nbformat_minor": 2
}
